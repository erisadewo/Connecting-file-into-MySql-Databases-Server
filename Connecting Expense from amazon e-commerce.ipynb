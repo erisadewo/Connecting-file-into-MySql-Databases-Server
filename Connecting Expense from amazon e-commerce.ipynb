{
 "cells": [
  {
   "cell_type": "code",
   "execution_count": 1,
   "id": "39e1fbf5",
   "metadata": {},
   "outputs": [],
   "source": [
    "import pandas as pd"
   ]
  },
  {
   "cell_type": "code",
   "execution_count": 5,
   "id": "0595cb78",
   "metadata": {},
   "outputs": [
    {
     "data": {
      "text/html": [
       "<div>\n",
       "<style scoped>\n",
       "    .dataframe tbody tr th:only-of-type {\n",
       "        vertical-align: middle;\n",
       "    }\n",
       "\n",
       "    .dataframe tbody tr th {\n",
       "        vertical-align: top;\n",
       "    }\n",
       "\n",
       "    .dataframe thead th {\n",
       "        text-align: right;\n",
       "    }\n",
       "</style>\n",
       "<table border=\"1\" class=\"dataframe\">\n",
       "  <thead>\n",
       "    <tr style=\"text-align: right;\">\n",
       "      <th></th>\n",
       "      <th>index</th>\n",
       "      <th>Recived Amount</th>\n",
       "      <th>Unnamed: 1</th>\n",
       "      <th>Expance</th>\n",
       "      <th>Unnamed: 3</th>\n",
       "    </tr>\n",
       "  </thead>\n",
       "  <tbody>\n",
       "    <tr>\n",
       "      <th>0</th>\n",
       "      <td>0</td>\n",
       "      <td>Particular</td>\n",
       "      <td>Amount</td>\n",
       "      <td>Particular</td>\n",
       "      <td>Amount</td>\n",
       "    </tr>\n",
       "    <tr>\n",
       "      <th>1</th>\n",
       "      <td>1</td>\n",
       "      <td>06-19-22</td>\n",
       "      <td>1000</td>\n",
       "      <td>Large Bag</td>\n",
       "      <td>380</td>\n",
       "    </tr>\n",
       "    <tr>\n",
       "      <th>2</th>\n",
       "      <td>2</td>\n",
       "      <td>06-20-22</td>\n",
       "      <td>1500</td>\n",
       "      <td>Stationary(Soft Pin, Paper pin for Dupatta, Fe...</td>\n",
       "      <td>170</td>\n",
       "    </tr>\n",
       "    <tr>\n",
       "      <th>3</th>\n",
       "      <td>3</td>\n",
       "      <td>06-22-22</td>\n",
       "      <td>500</td>\n",
       "      <td>OLA</td>\n",
       "      <td>839</td>\n",
       "    </tr>\n",
       "    <tr>\n",
       "      <th>4</th>\n",
       "      <td>4</td>\n",
       "      <td>06-23-22</td>\n",
       "      <td>2000</td>\n",
       "      <td>Auto Rent</td>\n",
       "      <td>520</td>\n",
       "    </tr>\n",
       "  </tbody>\n",
       "</table>\n",
       "</div>"
      ],
      "text/plain": [
       "   index Recived Amount Unnamed: 1  \\\n",
       "0      0     Particular     Amount   \n",
       "1      1       06-19-22       1000   \n",
       "2      2       06-20-22       1500   \n",
       "3      3       06-22-22        500   \n",
       "4      4       06-23-22       2000   \n",
       "\n",
       "                                             Expance Unnamed: 3  \n",
       "0                                         Particular     Amount  \n",
       "1                                          Large Bag        380  \n",
       "2  Stationary(Soft Pin, Paper pin for Dupatta, Fe...        170  \n",
       "3                                                OLA        839  \n",
       "4                                          Auto Rent        520  "
      ]
     },
     "execution_count": 5,
     "metadata": {},
     "output_type": "execute_result"
    }
   ],
   "source": [
    "data = pd.read_csv('Expense IIGF.csv')\n",
    "data.head()"
   ]
  },
  {
   "cell_type": "code",
   "execution_count": 6,
   "id": "7ddfc9e4",
   "metadata": {},
   "outputs": [
    {
     "name": "stdout",
     "output_type": "stream",
     "text": [
      "<class 'pandas.core.frame.DataFrame'>\n",
      "RangeIndex: 17 entries, 0 to 16\n",
      "Data columns (total 5 columns):\n",
      " #   Column          Non-Null Count  Dtype \n",
      "---  ------          --------------  ----- \n",
      " 0   index           17 non-null     int64 \n",
      " 1   Recived Amount  6 non-null      object\n",
      " 2   Unnamed: 1      6 non-null      object\n",
      " 3   Expance         15 non-null     object\n",
      " 4   Unnamed: 3      17 non-null     object\n",
      "dtypes: int64(1), object(4)\n",
      "memory usage: 808.0+ bytes\n"
     ]
    }
   ],
   "source": [
    "data.info()"
   ]
  },
  {
   "cell_type": "markdown",
   "id": "0601ec0a",
   "metadata": {},
   "source": [
    "the data set only has five columns\n",
    "\n",
    "and we will save this file into MySql Database"
   ]
  },
  {
   "cell_type": "markdown",
   "id": "cb84882f",
   "metadata": {},
   "source": [
    "**Connecting this file into MySql Database**"
   ]
  },
  {
   "cell_type": "code",
   "execution_count": 8,
   "id": "3cdb3af3",
   "metadata": {},
   "outputs": [
    {
     "name": "stdout",
     "output_type": "stream",
     "text": [
      "Error while connecting to MySQL 1007 (HY000): Can't create database 'SalesDataset'; database exists\n"
     ]
    }
   ],
   "source": [
    "import mysql.connector as mysql\n",
    "from mysql.connector import Error\n",
    "try:\n",
    "    conn = mysql.connect(host='localhost', user='root',  \n",
    "                        password='Rahasiadon9')#my password\n",
    "    if conn.is_connected():\n",
    "        cursor = conn.cursor(prepared=True)\n",
    "        cursor.execute(\"CREATE DATABASE SalesDataset\")\n",
    "        print(\"Database is created\")\n",
    "except Error as e:\n",
    "    print(\"Error while connecting to MySQL\", e)"
   ]
  },
  {
   "cell_type": "code",
   "execution_count": 25,
   "id": "5a330fc9",
   "metadata": {},
   "outputs": [
    {
     "name": "stdout",
     "output_type": "stream",
     "text": [
      "You're connected to database:  ('salesdataset',)\n",
      "Creating table....\n",
      "Table is created....\n",
      "Record inserted\n",
      "Record inserted\n",
      "Record inserted\n",
      "Record inserted\n",
      "Record inserted\n",
      "Record inserted\n",
      "Record inserted\n",
      "Record inserted\n",
      "Record inserted\n",
      "Record inserted\n",
      "Record inserted\n",
      "Record inserted\n",
      "Record inserted\n",
      "Record inserted\n",
      "Record inserted\n",
      "Record inserted\n",
      "Record inserted\n"
     ]
    }
   ],
   "source": [
    "import mysql.connector as mysql\n",
    "from mysql.connector import Error\n",
    "try:\n",
    "    conn = mysql.connect(host='localhost', database='SalesDataset', user='root', password='Rahasiadon9')\n",
    "    df = pd.read_csv('Expense IIGF.csv', index_col=0)\n",
    "    if conn.is_connected():\n",
    "        cursor = conn.cursor(prepared=True)\n",
    "        cursor.execute(\"select database();\")\n",
    "        record = cursor.fetchone()\n",
    "        print(\"You're connected to database: \", record)\n",
    "        cursor.execute('DROP TABLE IF EXISTS Expense ;')\n",
    "        print('Creating table....')\n",
    "# in the below line please pass the create table statement which you want #to create\n",
    "        cursor.execute(\"CREATE TABLE Expense(Received_Amount longtext, Unnamed1 longtext, Expance longtext, Unnamed3 Varchar(255) )\")\n",
    "        print(\"Table is created....\")\n",
    "        #loop through the data frame\n",
    "        for i,row in df.iterrows():\n",
    "            #here %S means string values \n",
    "            sql = \"INSERT INTO SalesDataset.Expense VALUES (%s,%s,%s,%s)\"\n",
    "            cursor.execute(sql, tuple(row))\n",
    "            print(\"Record inserted\")\n",
    "            # the connection is not auto committed by default, so we must commit to save our changes\n",
    "            conn.commit()\n",
    "except Error as e:\n",
    "            print(\"Error while connecting to MySQL\", e)"
   ]
  },
  {
   "cell_type": "code",
   "execution_count": null,
   "id": "1d89b1b9",
   "metadata": {},
   "outputs": [],
   "source": []
  }
 ],
 "metadata": {
  "kernelspec": {
   "display_name": "Python 3 (ipykernel)",
   "language": "python",
   "name": "python3"
  },
  "language_info": {
   "codemirror_mode": {
    "name": "ipython",
    "version": 3
   },
   "file_extension": ".py",
   "mimetype": "text/x-python",
   "name": "python",
   "nbconvert_exporter": "python",
   "pygments_lexer": "ipython3",
   "version": "3.9.7"
  }
 },
 "nbformat": 4,
 "nbformat_minor": 5
}
