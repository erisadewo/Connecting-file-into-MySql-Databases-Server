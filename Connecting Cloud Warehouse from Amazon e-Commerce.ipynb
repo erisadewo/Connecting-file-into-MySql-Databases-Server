{
 "cells": [
  {
   "cell_type": "code",
   "execution_count": 4,
   "id": "f6a5ac5b",
   "metadata": {},
   "outputs": [],
   "source": [
    "import pandas as pd"
   ]
  },
  {
   "cell_type": "code",
   "execution_count": 7,
   "id": "5793c174",
   "metadata": {},
   "outputs": [],
   "source": [
    "data = pd.read_csv('Cloud Warehouse Compersion Chart.csv', index_col=0)"
   ]
  },
  {
   "cell_type": "code",
   "execution_count": 10,
   "id": "b1ed0e57",
   "metadata": {},
   "outputs": [
    {
     "data": {
      "text/html": [
       "<div>\n",
       "<style scoped>\n",
       "    .dataframe tbody tr th:only-of-type {\n",
       "        vertical-align: middle;\n",
       "    }\n",
       "\n",
       "    .dataframe tbody tr th {\n",
       "        vertical-align: top;\n",
       "    }\n",
       "\n",
       "    .dataframe thead th {\n",
       "        text-align: right;\n",
       "    }\n",
       "</style>\n",
       "<table border=\"1\" class=\"dataframe\">\n",
       "  <thead>\n",
       "    <tr style=\"text-align: right;\">\n",
       "      <th></th>\n",
       "      <th>Shiprocket</th>\n",
       "      <th>Unnamed: 1</th>\n",
       "      <th>INCREFF</th>\n",
       "    </tr>\n",
       "    <tr>\n",
       "      <th>index</th>\n",
       "      <th></th>\n",
       "      <th></th>\n",
       "      <th></th>\n",
       "    </tr>\n",
       "  </thead>\n",
       "  <tbody>\n",
       "    <tr>\n",
       "      <th>0</th>\n",
       "      <td>Heads</td>\n",
       "      <td>Price (Per Unit)</td>\n",
       "      <td>Price (Per Unit)</td>\n",
       "    </tr>\n",
       "    <tr>\n",
       "      <th>1</th>\n",
       "      <td>Inbound (Fresh Stock and RTO)</td>\n",
       "      <td>₹4.00</td>\n",
       "      <td>4</td>\n",
       "    </tr>\n",
       "    <tr>\n",
       "      <th>2</th>\n",
       "      <td>Outbound</td>\n",
       "      <td>₹7.00</td>\n",
       "      <td>11</td>\n",
       "    </tr>\n",
       "    <tr>\n",
       "      <th>3</th>\n",
       "      <td>Storage Fee/Cft</td>\n",
       "      <td>₹25.00</td>\n",
       "      <td>Rs 0.15/- Per Day</td>\n",
       "    </tr>\n",
       "    <tr>\n",
       "      <th>4</th>\n",
       "      <td>Customer Return with Detailed QC</td>\n",
       "      <td>₹6.00</td>\n",
       "      <td>15.5</td>\n",
       "    </tr>\n",
       "  </tbody>\n",
       "</table>\n",
       "</div>"
      ],
      "text/plain": [
       "                             Shiprocket        Unnamed: 1            INCREFF\n",
       "index                                                                       \n",
       "0                                 Heads  Price (Per Unit)   Price (Per Unit)\n",
       "1         Inbound (Fresh Stock and RTO)             ₹4.00                  4\n",
       "2                              Outbound             ₹7.00                 11\n",
       "3                       Storage Fee/Cft            ₹25.00  Rs 0.15/- Per Day\n",
       "4      Customer Return with Detailed QC             ₹6.00               15.5"
      ]
     },
     "execution_count": 10,
     "metadata": {},
     "output_type": "execute_result"
    }
   ],
   "source": [
    "data.head()"
   ]
  },
  {
   "cell_type": "code",
   "execution_count": 11,
   "id": "c2362aa6",
   "metadata": {},
   "outputs": [
    {
     "name": "stdout",
     "output_type": "stream",
     "text": [
      "<class 'pandas.core.frame.DataFrame'>\n",
      "Int64Index: 50 entries, 0 to 49\n",
      "Data columns (total 3 columns):\n",
      " #   Column      Non-Null Count  Dtype \n",
      "---  ------      --------------  ----- \n",
      " 0   Shiprocket  21 non-null     object\n",
      " 1   Unnamed: 1  41 non-null     object\n",
      " 2   INCREFF     28 non-null     object\n",
      "dtypes: object(3)\n",
      "memory usage: 1.6+ KB\n"
     ]
    }
   ],
   "source": [
    "data.info()"
   ]
  },
  {
   "cell_type": "markdown",
   "id": "6d158555",
   "metadata": {},
   "source": [
    "data set only has three columns"
   ]
  },
  {
   "cell_type": "markdown",
   "id": "f77038da",
   "metadata": {},
   "source": [
    "**Connecting to MySql Databases**"
   ]
  },
  {
   "cell_type": "code",
   "execution_count": 5,
   "id": "b924b664",
   "metadata": {},
   "outputs": [
    {
     "name": "stdout",
     "output_type": "stream",
     "text": [
      "Error while connecting to MySQL 1007 (HY000): Can't create database 'SalesDataset'; database exists\n"
     ]
    }
   ],
   "source": [
    "import mysql.connector as mysql\n",
    "from mysql.connector import Error\n",
    "try:\n",
    "    conn = mysql.connect(host='localhost', user='root',  \n",
    "                        password='Rahasiadon9')#my password\n",
    "    if conn.is_connected():\n",
    "        cursor = conn.cursor(prepared=True)\n",
    "        cursor.execute(\"CREATE DATABASE SalesDataset\")\n",
    "        print(\"Database is created\")\n",
    "except Error as e:\n",
    "    print(\"Error while connecting to MySQL\", e)"
   ]
  },
  {
   "cell_type": "code",
   "execution_count": 25,
   "id": "9d990ff5",
   "metadata": {},
   "outputs": [
    {
     "name": "stdout",
     "output_type": "stream",
     "text": [
      "You're connected to database:  ('salesdataset',)\n",
      "Creating table....\n",
      "Table is created....\n",
      "Record inserted\n",
      "Record inserted\n",
      "Record inserted\n",
      "Record inserted\n",
      "Record inserted\n",
      "Record inserted\n",
      "Record inserted\n",
      "Record inserted\n",
      "Record inserted\n",
      "Record inserted\n",
      "Record inserted\n",
      "Record inserted\n",
      "Record inserted\n",
      "Record inserted\n",
      "Record inserted\n",
      "Record inserted\n",
      "Record inserted\n",
      "Record inserted\n",
      "Record inserted\n",
      "Record inserted\n",
      "Record inserted\n",
      "Record inserted\n",
      "Record inserted\n",
      "Record inserted\n",
      "Record inserted\n",
      "Record inserted\n",
      "Record inserted\n",
      "Record inserted\n",
      "Record inserted\n",
      "Record inserted\n",
      "Record inserted\n",
      "Record inserted\n",
      "Record inserted\n",
      "Record inserted\n",
      "Record inserted\n",
      "Record inserted\n",
      "Record inserted\n",
      "Record inserted\n",
      "Record inserted\n",
      "Record inserted\n",
      "Record inserted\n",
      "Record inserted\n",
      "Record inserted\n",
      "Record inserted\n",
      "Record inserted\n",
      "Record inserted\n",
      "Record inserted\n",
      "Record inserted\n",
      "Record inserted\n",
      "Record inserted\n"
     ]
    }
   ],
   "source": [
    "import mysql.connector as mysql\n",
    "from mysql.connector import Error\n",
    "try:\n",
    "    conn = mysql.connect(host='localhost', database='SalesDataset', user='root', password='Rahasiadon9')\n",
    "    df = pd.read_csv('Cloud Warehouse Compersion Chart.csv', index_col=0)\n",
    "    if conn.is_connected():\n",
    "        cursor = conn.cursor(prepared=True)\n",
    "        cursor.execute(\"select database();\")\n",
    "        record = cursor.fetchone()\n",
    "        print(\"You're connected to database: \", record)\n",
    "        cursor.execute('DROP TABLE IF EXISTS CloudWarehouse;')\n",
    "        print('Creating table....')\n",
    "# in the below line please pass the create table statement which you want #to create\n",
    "        cursor.execute(\"CREATE TABLE CloudWarehouse(Shiprocket Longtext, Unnamed1 Longtext, INCREFF Longtext)\")\n",
    "        print(\"Table is created....\")\n",
    "        #loop through the data frame\n",
    "        for i,row in df.iterrows():\n",
    "            #here %S means string values \n",
    "            sql = \"INSERT INTO SalesDataset.CloudWarehouse VALUES (%s,%s,%s)\"\n",
    "            cursor.execute(sql, tuple(row))\n",
    "            print(\"Record inserted\")\n",
    "            # the connection is not auto committed by default, so we must commit to save our changes\n",
    "            conn.commit()\n",
    "except Error as e:\n",
    "            print(\"Error while connecting to MySQL\", e)"
   ]
  },
  {
   "cell_type": "code",
   "execution_count": null,
   "id": "f352fcfe",
   "metadata": {},
   "outputs": [],
   "source": []
  }
 ],
 "metadata": {
  "kernelspec": {
   "display_name": "Python 3 (ipykernel)",
   "language": "python",
   "name": "python3"
  },
  "language_info": {
   "codemirror_mode": {
    "name": "ipython",
    "version": 3
   },
   "file_extension": ".py",
   "mimetype": "text/x-python",
   "name": "python",
   "nbconvert_exporter": "python",
   "pygments_lexer": "ipython3",
   "version": "3.9.7"
  }
 },
 "nbformat": 4,
 "nbformat_minor": 5
}
